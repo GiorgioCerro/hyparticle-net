{
 "cells": [
  {
   "cell_type": "code",
   "execution_count": 1,
   "metadata": {},
   "outputs": [],
   "source": [
    "import torch\n",
    "from torch_geometric.loader import DataLoader\n",
    "import torch.nn.functional as F\n",
    "from torch_geometric.nn import SAGEConv, GCNConv, GATConv\n",
    "\n",
    "from dataHandler import ParticleDataset\n",
    "\n",
    "import numpy as np\n",
    "from time import time\n",
    "import matplotlib.pyplot as plt\n",
    "from matplotlib.patches import Circle,ConnectionPatch\n",
    "plt.style.use('dark_background')"
   ]
  },
  {
   "cell_type": "code",
   "execution_count": 2,
   "metadata": {},
   "outputs": [],
   "source": [
    "def distance_matrix(nodes):\n",
    "    nodes=nodes\n",
    "    _x = (nodes[:,0][...,None] - nodes[:,0])**2\n",
    "    _y = (nodes[:,1][...,None] - nodes[:,1])**2\n",
    "    matrix = torch.sqrt(_x + _y + 1e-8)\n",
    "    return matrix"
   ]
  },
  {
   "cell_type": "code",
   "execution_count": 3,
   "metadata": {},
   "outputs": [],
   "source": [
    "dataset = ParticleDataset('data/hz_test.hdf5','signal')\n",
    "#data = dataset.__getitem__(0)\n",
    "data_batches = DataLoader(dataset,batch_size=4,shuffle=False)"
   ]
  },
  {
   "cell_type": "code",
   "execution_count": 4,
   "metadata": {},
   "outputs": [],
   "source": [
    "class GNN(torch.nn.Module):\n",
    "    def __init__(self,_in,_h1,_out):\n",
    "        super().__init__()\n",
    "        self.conv1 = GCNConv(_in,_h1)\n",
    "        self.conv2 = GCNConv(_h1,_out)\n",
    "        \n",
    "    def forward(self,data):\n",
    "        x, edge_index = data.x, data.edge_index\n",
    "        \n",
    "        x = self.conv1(x, edge_index)\n",
    "        x = torch.tanh(x)\n",
    "        x = F.dropout(x, training=self.training)\n",
    "        x = self.conv2(x, edge_index)\n",
    "        #x = torch.tanh(x)\n",
    "        return x"
   ]
  },
  {
   "cell_type": "code",
   "execution_count": 5,
   "metadata": {},
   "outputs": [],
   "source": [
    "device = torch.device('cuda' if torch.cuda.is_available() else 'cpu')\n",
    "model = GNN(4,64,2).to(device)\n",
    "model.double()\n",
    "#optimizer = torch.optim.SGD(model.parameters(),lr=0.01,momentum=0.9,weight_decay=5e-4)\n",
    "optimizer = torch.optim.Adam(model.parameters(), lr=0.01, weight_decay=5e-4)"
   ]
  },
  {
   "cell_type": "code",
   "execution_count": 206,
   "metadata": {},
   "outputs": [
    {
     "name": "stdout",
     "output_type": "stream",
     "text": [
      "epoch:0, event:24, mean loss:0.26780253029807727,             time 1.3\n",
      "epoch:1, event:24, mean loss:0.29790686582022213,             time 1.44\n",
      "epoch:2, event:24, mean loss:0.2652273219691753,             time 1.29\n",
      "epoch:3, event:24, mean loss:0.2195512820552258,             time 1.24\n",
      "epoch:4, event:24, mean loss:0.29659747433846606,             time 1.26\n",
      "epoch:5, event:24, mean loss:0.28883476334006114,             time 1.44\n",
      "epoch:6, event:24, mean loss:0.23509033594780507,             time 1.29\n",
      "epoch:7, event:24, mean loss:0.2544619448693751,             time 1.3\n",
      "epoch:8, event:24, mean loss:0.24422363186254842,             time 1.25\n",
      "epoch:9, event:24, mean loss:0.21792893643544817,             time 1.29\n",
      "epoch:10, event:24, mean loss:0.25234826477524486,             time 1.26\n",
      "epoch:11, event:24, mean loss:0.2317062869877582,             time 1.22\n",
      "epoch:12, event:24, mean loss:0.23131476600434284,             time 1.25\n",
      "epoch:13, event:24, mean loss:0.23012043720491412,             time 1.28\n",
      "epoch:14, event:24, mean loss:0.21908590393104388,             time 1.24\n",
      "epoch:15, event:24, mean loss:0.2390059115087462,             time 1.21\n",
      "epoch:16, event:24, mean loss:0.23537848197851569,             time 1.24\n",
      "epoch:17, event:24, mean loss:0.20351203517821967,             time 1.24\n",
      "epoch:18, event:24, mean loss:0.2212620207954148,             time 1.28\n",
      "epoch:19, event:24, mean loss:0.21800101407121353,             time 1.23\n",
      "epoch:20, event:24, mean loss:0.23691654724569297,             time 1.23\n",
      "epoch:21, event:24, mean loss:0.2185740246184346,             time 1.21\n",
      "epoch:22, event:24, mean loss:0.226545534309579,             time 1.22\n",
      "epoch:23, event:24, mean loss:0.2111657237865256,             time 1.2\n",
      "epoch:24, event:24, mean loss:0.24107670722029,             time 1.23\n",
      "epoch:25, event:24, mean loss:0.21165843548593677,             time 1.22\n",
      "epoch:26, event:24, mean loss:0.22318717396863696,             time 1.21\n",
      "epoch:27, event:24, mean loss:0.2088638417894275,             time 1.21\n",
      "epoch:28, event:24, mean loss:0.2170658268225978,             time 1.25\n",
      "epoch:29, event:24, mean loss:0.2381380816844461,             time 1.28\n",
      "epoch:30, event:24, mean loss:0.22023746292644952,             time 1.27\n",
      "epoch:31, event:24, mean loss:0.20776214844426835,             time 1.3\n",
      "epoch:32, event:24, mean loss:0.21372625350654315,             time 1.2\n",
      "epoch:33, event:24, mean loss:0.23905533743504928,             time 1.23\n",
      "epoch:34, event:24, mean loss:0.209573665522789,             time 1.22\n",
      "epoch:35, event:24, mean loss:0.2241612417728916,             time 1.21\n",
      "epoch:36, event:24, mean loss:0.2074474170027498,             time 1.21\n",
      "epoch:37, event:24, mean loss:0.20346371386260464,             time 1.21\n",
      "epoch:38, event:24, mean loss:0.19693731701644246,             time 1.23\n",
      "epoch:39, event:24, mean loss:0.20796279277496316,             time 1.21\n",
      "epoch:40, event:24, mean loss:0.20397091101314302,             time 1.21\n",
      "epoch:41, event:24, mean loss:0.222841947486922,             time 1.32\n",
      "epoch:42, event:24, mean loss:0.23137780838935595,             time 1.29\n",
      "epoch:43, event:24, mean loss:0.22384121945127114,             time 1.21\n",
      "epoch:44, event:24, mean loss:0.21879368424618476,             time 1.21\n",
      "epoch:45, event:24, mean loss:0.21830347495862817,             time 1.21\n",
      "epoch:46, event:24, mean loss:0.20698211475574108,             time 1.25\n",
      "epoch:47, event:24, mean loss:0.2227508015288012,             time 1.23\n",
      "epoch:48, event:24, mean loss:0.22510624511231891,             time 1.28\n",
      "epoch:49, event:24, mean loss:0.21208387783256663,             time 1.23\n"
     ]
    }
   ],
   "source": [
    "model.train()\n",
    "torch.autograd.set_detect_anomaly(True)\n",
    "for epoch in range(50):\n",
    "    ls = []\n",
    "    t = time()\n",
    "    for event in range(25):\n",
    "        ls = []\n",
    "        data = dataset.__getitem__(event)\n",
    "        optimizer.zero_grad()\n",
    "        out = model(data)\n",
    "        #loss = my_loss(out,data.y)\n",
    "        length = len(out)\n",
    "        \n",
    "        _input = distance_matrix(out)\n",
    "        #_input = _input[torch.triu(torch.ones(length,length),diagonal=1) == 1]\n",
    "        #_input.requires_grad_(False)\n",
    "        \n",
    "        _target = distance_matrix(data.y)\n",
    "        #_target = _target[torch.triu(torch.ones(length,length),diagonal=1) == 1]\n",
    "        #print(F.mse_loss(_input,_target))\n",
    "        loss = F.mse_loss(_input,_target)\n",
    "        #loss = F.mse_loss(out,data.y)\n",
    "        #print('data',torch.mean(loss/_input), torch.mean(loss/_target))\n",
    "        ls.append(loss)\n",
    "        loss.backward()\n",
    "        torch.nn.utils.clip_grad_norm_(model.parameters(), 0.5)\n",
    "        optimizer.step()\n",
    "        \n",
    "    ls = torch.tensor(ls)\n",
    "    print(f'epoch:{epoch}, event:{event}, mean loss:{torch.mean(ls.clone().detach())}, \\\n",
    "            time {round(time()-t,2)}')"
   ]
  },
  {
   "cell_type": "code",
   "execution_count": 6,
   "metadata": {
    "scrolled": true
   },
   "outputs": [
    {
     "name": "stdout",
     "output_type": "stream",
     "text": [
      "epoch:0, mean loss:1.341827692014309,           time 23.67\n"
     ]
    }
   ],
   "source": [
    "model.train()\n",
    "for epoch in range(1):\n",
    "    loss = []\n",
    "    t = time()\n",
    "    for data in data_batches:\n",
    "        optimizer.zero_grad()\n",
    "        out = model(data)\n",
    "        loss_temp = 0\n",
    "        for graph_idx in torch.unique(data.batch):\n",
    "            graph_mask = data.batch == graph_idx\n",
    "            _x = out[graph_mask]\n",
    "            _y = data.y[graph_mask]\n",
    "            \n",
    "            _input = distance_matrix(_x)\n",
    "            _target = distance_matrix(_y)\n",
    "        \n",
    "            loss_temp += F.mse_loss(_input,_target)\n",
    "            \n",
    "        loss.append(loss_temp)\n",
    "        \n",
    "        loss_temp.backward()\n",
    "        optimizer.step()\n",
    "        \n",
    "    loss = torch.tensor(loss)\n",
    "    print(f'epoch:{epoch}, mean loss:{torch.mean(loss.clone().detach())}, \\\n",
    "          time {round(time()-t,2)}')"
   ]
  },
  {
   "cell_type": "code",
   "execution_count": 11,
   "metadata": {},
   "outputs": [],
   "source": [
    "torch.save(model,'model_scripted.pt')"
   ]
  },
  {
   "cell_type": "markdown",
   "metadata": {},
   "source": [
    "# Example "
   ]
  },
  {
   "cell_type": "code",
   "execution_count": 13,
   "metadata": {},
   "outputs": [
    {
     "name": "stdout",
     "output_type": "stream",
     "text": [
      "loss is: 0.3186292073571476\n"
     ]
    },
    {
     "data": {
      "image/png": "[encoded data removed]",
      "text/plain": [
       "<Figure size 1080x360 with 2 Axes>"
      ]
     },
     "metadata": {},
     "output_type": "display_data"
    }
   ],
   "source": [
    "model = torch.load('model_scripted.pt')\n",
    "model.eval()\n",
    "data = dataset.__getitem__(0)\n",
    "out = model(data)\n",
    "\n",
    "fig,ax = plt.subplots(1,2,figsize=(15,5))\n",
    "ax = ax.flatten()\n",
    "ax[0].scatter(data.y[:,0],data.y[:,1],alpha=1,color='#1AF8FF')\n",
    "ax[0].set_title('True values')\n",
    "\n",
    "test = out.detach().clone()\n",
    "ax[1].scatter(test[:,0],test[:,1],alpha=1,color='#1AF8FF')\n",
    "ax[1].set_title('Test values')\n",
    "\n",
    "disk = Circle((0,0),1,color='white',fill=False)\n",
    "disk2 = Circle((0,0),1,color='white',fill=False)\n",
    "\n",
    "ax[0].add_patch(disk)\n",
    "ax[1].add_patch(disk2)\n",
    "\n",
    "idxs = [0,1]\n",
    "for idx00 in idxs:\n",
    "    xy_left = data.y[idx00]\n",
    "    xy_right = test[idx00]\n",
    "\n",
    "    ax[0].scatter(xy_left[0],xy_left[1],alpha=1,color='#DF0101',s = 50)\n",
    "    ax[1].scatter(xy_right[0],xy_right[1],s=50,c='#DF0101') #change color\n",
    "    con = ConnectionPatch(xyA=xy_left, coordsA=ax[0].transData,xyB=xy_right, coordsB=ax[1].transData,color='#DF0101')\n",
    "    fig.add_artist(con)\n",
    "\n",
    "length = len(out)\n",
    "_input = distance_matrix(out)\n",
    "_input = _input[torch.triu(torch.ones(length,length),diagonal=1) == 1]\n",
    "_target = distance_matrix(data.y)\n",
    "_target = _target[torch.triu(torch.ones(length,length),diagonal=1) == 1]\n",
    "loss = F.mse_loss(_input,_target)\n",
    "print(f'loss is: {loss}')    \n",
    "plt.show()"
   ]
  },
  {
   "cell_type": "code",
   "execution_count": 117,
   "metadata": {},
   "outputs": [],
   "source": [
    "from manifold import PoincareManifold\n",
    "poincare = PoincareManifold()"
   ]
  },
  {
   "cell_type": "code",
   "execution_count": 172,
   "metadata": {},
   "outputs": [
    {
     "data": {
      "text/plain": [
       "tensor([0., 0., 0., 0., 0., 0., 0., 0., 0., 0., 0., 0., 0., 0., 0., 0., 0., 0., 0., 0., 0., 0., 0., 0.,\n",
       "        0., 0., 0., 0., 0., 0., 0., 0., 0., 0., 0., 0., 0., 0., 0., 0., 0., 0., 0., 0., 0., 0., 0., 0.,\n",
       "        0., 0., 0., 0., 0., 0., 0., 0., 0., 0., 0., 0., 0., 0., 0., 0., 0., 0., 0., 0., 0., 0., 0., 0.,\n",
       "        0., 0., 0., 0., 0., 0., 0., 0., 0., 0., 0., 0., 0., 0., 0., 0., 0., 0., 0., 0., 0., 0., 0., 0.,\n",
       "        0., 0., 0., 0., 0., 0., 0., 0., 0., 0., 0., 0., 0., 0., 0., 0., 0., 0., 0., 0., 0., 0., 0., 0.,\n",
       "        0., 0., 0., 0., 0., 0., 0., 0., 0., 0., 0., 0., 0., 0., 0., 0., 0., 0., 0., 0., 0., 0., 0., 0.,\n",
       "        0., 0., 0., 0., 0., 0., 0., 0., 0., 0., 0., 0., 0., 0., 0., 0., 0., 0., 0., 0., 0., 0., 0., 0.,\n",
       "        0., 0., 0., 0., 0., 0., 0., 0., 0., 0., 0., 0., 0., 0., 0., 0., 0., 0., 0., 0., 0., 0., 0., 0.,\n",
       "        0., 0., 0., 0., 0., 0., 0., 0., 0., 0., 0., 0., 0., 0., 0., 0.],\n",
       "       dtype=torch.float64)"
      ]
     },
     "execution_count": 172,
     "metadata": {},
     "output_type": "execute_result"
    }
   ],
   "source": [
    "poincare.distance(data.y,data.y)"
   ]
  }
 ],
 "metadata": {
  "kernelspec": {
   "display_name": "Python 3 (ipykernel)",
   "language": "python",
   "name": "python3"
  },
  "language_info": {
   "codemirror_mode": {
    "name": "ipython",
    "version": 3
   },
   "file_extension": ".py",
   "mimetype": "text/x-python",
   "name": "python",
   "nbconvert_exporter": "python",
   "pygments_lexer": "ipython3",
   "version": "3.9.7"
  }
 },
 "nbformat": 4,
 "nbformat_minor": 4
}
