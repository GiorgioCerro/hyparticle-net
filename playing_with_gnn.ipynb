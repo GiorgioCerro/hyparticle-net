{
 "cells": [
  {
   "cell_type": "code",
   "execution_count": 5,
   "metadata": {},
   "outputs": [],
   "source": [
    "import torch\n",
    "import torch.linalg as alg\n",
    "from torch_geometric.loader import DataLoader\n",
    "import torch.nn.functional as F\n",
    "from torch_geometric.nn import SAGEConv, GCNConv, GATConv, HypergraphConv\n",
    "\n",
    "from dataHandler import ParticleDataset\n",
    "from manifold import PoincareBall\n",
    "manifold = PoincareBall()\n",
    "\n",
    "import numpy as np\n",
    "from time import time\n",
    "import matplotlib.pyplot as plt\n",
    "from matplotlib.patches import Circle,ConnectionPatch\n",
    "plt.style.use('dark_background')"
   ]
  },
  {
   "cell_type": "code",
   "execution_count": 157,
   "metadata": {},
   "outputs": [],
   "source": [
    "def hyper_dist(point_a,point_b):\n",
    "    #point_a = poincare._clip_vectors(point_a)\n",
    "    #point_b = poincare._clip_vectors(point_b)\n",
    "\n",
    "    #if len(point_a.shape) < 2:\n",
    "    #    point_a = th.unsqueeze(point_a, 0)\n",
    "    #if len(point_b.shape) < 2:\n",
    "    #    point_b = th.unsqueeze(point_b, 0)\n",
    "\n",
    "    sq_norm_a = alg.norm(point_a,axis=1) ** 2.\n",
    "    sq_norm_b = alg.norm(point_b,axis=1) ** 2.\n",
    "    sq_norm_ab = alg.norm(point_a - point_b,axis=1) ** 2.\n",
    "\n",
    "    cosh_angle = 1 + 2 * sq_norm_ab / (1 - sq_norm_a) / (1 - sq_norm_b)\n",
    "    cosh_angle = torch.clamp(cosh_angle, min=1.+1e-6)\n",
    "    dist = torch.acosh(cosh_angle)\n",
    "    return dist\n",
    "\n",
    "\n",
    "def distance_matrix(nodes):\n",
    "    matrix = torch.zeros(len(nodes),len(nodes))\n",
    "    for n_idx in range(len(nodes)):\n",
    "        #matrix[n_idx] = torch.cdist(torch.unsqueeze(nodes[n_idx],0),nodes)\n",
    "        matrix[n_idx] = hyper_dist(torch.unsqueeze(nodes[n_idx],0),nodes) + 1e-8\n",
    "    return matrix\n",
    "\n",
    "def distance_matrix2(nodes):\n",
    "    matrix = torch.zeros(len(nodes),len(nodes))\n",
    "    for n_idx in range(len(nodes)):\n",
    "        matrix[n_idx] = torch.cdist(torch.unsqueeze(nodes[n_idx],0),nodes)\n",
    "        #matrix[n_idx] = poincare.distance(torch.unsqueeze(nodes[n_idx],0),nodes)\n",
    "    return matrix"
   ]
  },
  {
   "cell_type": "code",
   "execution_count": 6,
   "metadata": {},
   "outputs": [],
   "source": [
    "dataset = ParticleDataset('data/test/','background')\n",
    "#data = dataset.__getitem__(0)\n",
    "data_batches = DataLoader(dataset,batch_size=4,shuffle=False,num_workers=128)"
   ]
  },
  {
   "cell_type": "code",
   "execution_count": 8,
   "metadata": {},
   "outputs": [],
   "source": [
    "class gnn(torch.nn.Module):\n",
    "    def __init__(self,_in,_h1,_h2,_out):\n",
    "        super().__init__()\n",
    "        self.conv1 = HypergraphConv(_in,_h1,dropout=0.1)\n",
    "        self.conv2 = HypergraphConv(_h1,_h2,dropout=0.1)\n",
    "        self.conv3 = HypergraphConv(_h2,_out,dropout=0.1)\n",
    "        \n",
    "        self.epsilon = 1e-1\n",
    "        self.thresh = 1.0 - self.epsilon\n",
    "        \n",
    "    def forward(self,data):\n",
    "        x, edge_index = data.x, data.edge_index\n",
    "        \n",
    "        for row_id in range(len(x)):\n",
    "            x[row_id] = poincare.exp_map(x[row_id],torch.zeros_like(x[0]))\n",
    "        \n",
    "        x = self.conv1(x, edge_index)\n",
    "        x = self.conv2(x, edge_index)\n",
    "        x = self.conv3(x, edge_index)\n",
    "        \n",
    "        '''\n",
    "        norms = alg.norm(x,axis=1)\n",
    "        if (norms < self.thresh).all() == False:\n",
    "            x_copy = torch.clone(x)\n",
    "            x_copy[norms >= self.thresh] *= (self.thresh / norms[norms >= self.thresh])[:,None]\n",
    "            x = x_copy\n",
    "        '''\n",
    "        #x = poincare._clip_vectors(x)\n",
    "        return x"
   ]
  },
  {
   "cell_type": "code",
   "execution_count": 160,
   "metadata": {},
   "outputs": [],
   "source": [
    "device = torch.device('cuda' if torch.cuda.is_available() else 'cpu')\n",
    "model = gnn(4,64,64,2).to(device)\n",
    "model.double()\n",
    "#optimizer = torch.optim.SGD(model.parameters(),lr=0.01,momentum=0.9,weight_decay=5e-4)\n",
    "optimizer = torch.optim.Adam(model.parameters(), lr=0.01, weight_decay=5e-4)"
   ]
  },
  {
   "cell_type": "code",
   "execution_count": 144,
   "metadata": {
    "scrolled": true
   },
   "outputs": [
    {
     "name": "stdout",
     "output_type": "stream",
     "text": [
      "graph number: 0, loss_temp: 6.707857608795166\n",
      "graph number: 1, loss_temp: 13.596183776855469\n",
      "graph number: 2, loss_temp: 20.743505477905273\n",
      "graph number: 3, loss_temp: 26.82996940612793\n",
      "batch:4, mean loss:6.707492351531982,           time 19.82\n",
      "graph number: 5, loss_temp: 2.952507257461548\n",
      "graph number: 6, loss_temp: 6.036515235900879\n",
      "graph number: 7, loss_temp: 9.610318183898926\n",
      "graph number: 8, loss_temp: 11.817001342773438\n",
      "batch:9, mean loss:2.9542503356933594,           time 29.94\n",
      "graph number: 10, loss_temp: 5.735039234161377\n",
      "graph number: 11, loss_temp: 10.133493423461914\n",
      "graph number: 12, loss_temp: 16.856407165527344\n",
      "graph number: 13, loss_temp: 22.387880325317383\n",
      "batch:14, mean loss:5.596970081329346,           time 39.4\n"
     ]
    },
    {
     "name": "stderr",
     "output_type": "stream",
     "text": [
      "Process Process-2601:\n",
      "Exception ignored in: <function _MultiProcessingDataLoaderIter.__del__ at 0x2adea3f093a0>\n",
      "Traceback (most recent call last):\n",
      "  File \"/scratch/gc2c20/miniconda3/envs/pyg/lib/python3.9/site-packages/torch/utils/data/dataloader.py\", line 1328, in __del__\n",
      "    self._shutdown_workers()\n",
      "  File \"/scratch/gc2c20/miniconda3/envs/pyg/lib/python3.9/site-packages/torch/utils/data/dataloader.py\", line 1301, in _shutdown_workers\n",
      "    w.join(timeout=_utils.MP_STATUS_CHECK_INTERVAL)\n",
      "  File \"/scratch/gc2c20/miniconda3/envs/pyg/lib/python3.9/multiprocessing/process.py\", line 149, in join\n",
      "    res = self._popen.wait(timeout)\n",
      "  File \"/scratch/gc2c20/miniconda3/envs/pyg/lib/python3.9/multiprocessing/popen_fork.py\", line 40, in wait\n",
      "    if not wait([self.sentinel], timeout):\n",
      "  File \"/scratch/gc2c20/miniconda3/envs/pyg/lib/python3.9/multiprocessing/connection.py\", line 936, in wait\n",
      "    ready = selector.select(timeout)\n",
      "  File \"/scratch/gc2c20/miniconda3/envs/pyg/lib/python3.9/selectors.py\", line 416, in select\n",
      "    fd_event_list = self._selector.poll(timeout)\n",
      "KeyboardInterrupt: \n"
     ]
    },
    {
     "ename": "KeyboardInterrupt",
     "evalue": "",
     "output_type": "error",
     "traceback": [
      "\u001b[0;31m---------------------------------------------------------------------------\u001b[0m",
      "\u001b[0;31mKeyboardInterrupt\u001b[0m                         Traceback (most recent call last)",
      "\u001b[0;32m/tmp/ipykernel_129034/1791262367.py\u001b[0m in \u001b[0;36m<module>\u001b[0;34m\u001b[0m\n\u001b[1;32m      7\u001b[0m     \u001b[0;32mfor\u001b[0m \u001b[0mbatch\u001b[0m \u001b[0;32min\u001b[0m \u001b[0mdata_batches\u001b[0m\u001b[0;34m:\u001b[0m\u001b[0;34m\u001b[0m\u001b[0;34m\u001b[0m\u001b[0m\n\u001b[1;32m      8\u001b[0m         \u001b[0moptimizer\u001b[0m\u001b[0;34m.\u001b[0m\u001b[0mzero_grad\u001b[0m\u001b[0;34m(\u001b[0m\u001b[0;34m)\u001b[0m\u001b[0;34m\u001b[0m\u001b[0;34m\u001b[0m\u001b[0m\n\u001b[0;32m----> 9\u001b[0;31m         \u001b[0mout\u001b[0m \u001b[0;34m=\u001b[0m \u001b[0mmodel\u001b[0m\u001b[0;34m(\u001b[0m\u001b[0mbatch\u001b[0m\u001b[0;34m)\u001b[0m\u001b[0;34m\u001b[0m\u001b[0;34m\u001b[0m\u001b[0m\n\u001b[0m\u001b[1;32m     10\u001b[0m         \u001b[0mloss_temp\u001b[0m \u001b[0;34m=\u001b[0m \u001b[0;36m0\u001b[0m\u001b[0;34m\u001b[0m\u001b[0;34m\u001b[0m\u001b[0m\n\u001b[1;32m     11\u001b[0m         \u001b[0;32mfor\u001b[0m \u001b[0mgraph_idx\u001b[0m \u001b[0;32min\u001b[0m \u001b[0mtorch\u001b[0m\u001b[0;34m.\u001b[0m\u001b[0munique\u001b[0m\u001b[0;34m(\u001b[0m\u001b[0mbatch\u001b[0m\u001b[0;34m.\u001b[0m\u001b[0mbatch\u001b[0m\u001b[0;34m)\u001b[0m\u001b[0;34m:\u001b[0m\u001b[0;34m\u001b[0m\u001b[0;34m\u001b[0m\u001b[0m\n",
      "\u001b[0;32m/scratch/gc2c20/miniconda3/envs/pyg/lib/python3.9/site-packages/torch/nn/modules/module.py\u001b[0m in \u001b[0;36m_call_impl\u001b[0;34m(self, *input, **kwargs)\u001b[0m\n\u001b[1;32m   1100\u001b[0m         if not (self._backward_hooks or self._forward_hooks or self._forward_pre_hooks or _global_backward_hooks\n\u001b[1;32m   1101\u001b[0m                 or _global_forward_hooks or _global_forward_pre_hooks):\n\u001b[0;32m-> 1102\u001b[0;31m             \u001b[0;32mreturn\u001b[0m \u001b[0mforward_call\u001b[0m\u001b[0;34m(\u001b[0m\u001b[0;34m*\u001b[0m\u001b[0minput\u001b[0m\u001b[0;34m,\u001b[0m \u001b[0;34m**\u001b[0m\u001b[0mkwargs\u001b[0m\u001b[0;34m)\u001b[0m\u001b[0;34m\u001b[0m\u001b[0;34m\u001b[0m\u001b[0m\n\u001b[0m\u001b[1;32m   1103\u001b[0m         \u001b[0;31m# Do not call functions when jit is used\u001b[0m\u001b[0;34m\u001b[0m\u001b[0;34m\u001b[0m\u001b[0m\n\u001b[1;32m   1104\u001b[0m         \u001b[0mfull_backward_hooks\u001b[0m\u001b[0;34m,\u001b[0m \u001b[0mnon_full_backward_hooks\u001b[0m \u001b[0;34m=\u001b[0m \u001b[0;34m[\u001b[0m\u001b[0;34m]\u001b[0m\u001b[0;34m,\u001b[0m \u001b[0;34m[\u001b[0m\u001b[0;34m]\u001b[0m\u001b[0;34m\u001b[0m\u001b[0;34m\u001b[0m\u001b[0m\n",
      "\u001b[0;32m/tmp/ipykernel_129034/889763370.py\u001b[0m in \u001b[0;36mforward\u001b[0;34m(self, data)\u001b[0m\n\u001b[1;32m     13\u001b[0m \u001b[0;34m\u001b[0m\u001b[0m\n\u001b[1;32m     14\u001b[0m         \u001b[0;32mfor\u001b[0m \u001b[0mrow_id\u001b[0m \u001b[0;32min\u001b[0m \u001b[0mrange\u001b[0m\u001b[0;34m(\u001b[0m\u001b[0mlen\u001b[0m\u001b[0;34m(\u001b[0m\u001b[0mx\u001b[0m\u001b[0;34m)\u001b[0m\u001b[0;34m)\u001b[0m\u001b[0;34m:\u001b[0m\u001b[0;34m\u001b[0m\u001b[0;34m\u001b[0m\u001b[0m\n\u001b[0;32m---> 15\u001b[0;31m             \u001b[0mx\u001b[0m\u001b[0;34m[\u001b[0m\u001b[0mrow_id\u001b[0m\u001b[0;34m]\u001b[0m \u001b[0;34m=\u001b[0m \u001b[0mpoincare\u001b[0m\u001b[0;34m.\u001b[0m\u001b[0mexp_map\u001b[0m\u001b[0;34m(\u001b[0m\u001b[0mx\u001b[0m\u001b[0;34m[\u001b[0m\u001b[0mrow_id\u001b[0m\u001b[0;34m]\u001b[0m\u001b[0;34m,\u001b[0m\u001b[0mtorch\u001b[0m\u001b[0;34m.\u001b[0m\u001b[0mzeros_like\u001b[0m\u001b[0;34m(\u001b[0m\u001b[0mx\u001b[0m\u001b[0;34m[\u001b[0m\u001b[0;36m0\u001b[0m\u001b[0;34m]\u001b[0m\u001b[0;34m)\u001b[0m\u001b[0;34m)\u001b[0m\u001b[0;34m\u001b[0m\u001b[0;34m\u001b[0m\u001b[0m\n\u001b[0m\u001b[1;32m     16\u001b[0m \u001b[0;34m\u001b[0m\u001b[0m\n\u001b[1;32m     17\u001b[0m         \u001b[0mx\u001b[0m \u001b[0;34m=\u001b[0m \u001b[0mself\u001b[0m\u001b[0;34m.\u001b[0m\u001b[0mconv1\u001b[0m\u001b[0;34m(\u001b[0m\u001b[0mx\u001b[0m\u001b[0;34m,\u001b[0m \u001b[0medge_index\u001b[0m\u001b[0;34m)\u001b[0m\u001b[0;34m\u001b[0m\u001b[0;34m\u001b[0m\u001b[0m\n",
      "\u001b[0;32m/mainfs/home/gc2c20/myproject/hyperTree/manifold/poincare.py\u001b[0m in \u001b[0;36mexp_map\u001b[0;34m(self, vector, base_point)\u001b[0m\n\u001b[1;32m     98\u001b[0m         \u001b[0mfactor\u001b[0m \u001b[0;34m=\u001b[0m \u001b[0mself\u001b[0m\u001b[0;34m.\u001b[0m\u001b[0mconformal_factor\u001b[0m\u001b[0;34m(\u001b[0m\u001b[0mbase_point\u001b[0m\u001b[0;34m)\u001b[0m\u001b[0;34m\u001b[0m\u001b[0;34m\u001b[0m\u001b[0m\n\u001b[1;32m     99\u001b[0m         \u001b[0mnorm_vector\u001b[0m \u001b[0;34m=\u001b[0m \u001b[0malg\u001b[0m\u001b[0;34m.\u001b[0m\u001b[0mnorm\u001b[0m\u001b[0;34m(\u001b[0m\u001b[0mvector\u001b[0m\u001b[0;34m)\u001b[0m\u001b[0;34m\u001b[0m\u001b[0;34m\u001b[0m\u001b[0m\n\u001b[0;32m--> 100\u001b[0;31m         \u001b[0mtn\u001b[0m \u001b[0;34m=\u001b[0m \u001b[0mth\u001b[0m\u001b[0;34m.\u001b[0m\u001b[0mtanh\u001b[0m\u001b[0;34m(\u001b[0m\u001b[0mfactor\u001b[0m \u001b[0;34m*\u001b[0m \u001b[0mnorm_vector\u001b[0m \u001b[0;34m/\u001b[0m \u001b[0;36m2.\u001b[0m\u001b[0;34m)\u001b[0m \u001b[0;34m*\u001b[0m \u001b[0mvector\u001b[0m \u001b[0;34m/\u001b[0m \u001b[0mnorm_vector\u001b[0m\u001b[0;34m\u001b[0m\u001b[0;34m\u001b[0m\u001b[0m\n\u001b[0m\u001b[1;32m    101\u001b[0m         \u001b[0mexp\u001b[0m \u001b[0;34m=\u001b[0m \u001b[0mself\u001b[0m\u001b[0;34m.\u001b[0m\u001b[0mmobius_addition\u001b[0m\u001b[0;34m(\u001b[0m\u001b[0mbase_point\u001b[0m\u001b[0;34m,\u001b[0m\u001b[0mtn\u001b[0m\u001b[0;34m)\u001b[0m\u001b[0;34m\u001b[0m\u001b[0;34m\u001b[0m\u001b[0m\n\u001b[1;32m    102\u001b[0m         \u001b[0;32mreturn\u001b[0m \u001b[0mexp\u001b[0m\u001b[0;34m\u001b[0m\u001b[0;34m\u001b[0m\u001b[0m\n",
      "\u001b[0;31mKeyboardInterrupt\u001b[0m: "
     ]
    }
   ],
   "source": [
    "model.train()\n",
    "torch.autograd.set_detect_anomaly(True)\n",
    "for epoch in range(1):\n",
    "    loss = []\n",
    "    t = time()\n",
    "    count = 0\n",
    "    for batch in data_batches:\n",
    "        optimizer.zero_grad()\n",
    "        out = model(batch)\n",
    "        loss_temp = 0\n",
    "        for graph_idx in torch.unique(batch.batch):\n",
    "            graph_mask = batch.batch == graph_idx\n",
    "            _x = out[graph_mask]\n",
    "            _y = batch.y[graph_mask]\n",
    "            \n",
    "            _input = distance_matrix(_x)\n",
    "            _target = distance_matrix(_y)\n",
    "        \n",
    "            loss_temp += F.mse_loss(_input,_target)\n",
    "            print(f'graph number: {count}, loss_temp: {loss_temp}')\n",
    "            count+=1\n",
    "        loss_temp /= batch.num_graphs    \n",
    "        loss.append(loss_temp)\n",
    "        \n",
    "        loss_temp.backward()\n",
    "        optimizer.step()\n",
    "        print(f'batch:{count}, mean loss:{torch.mean(loss_temp.clone().detach())}, \\\n",
    "          time {round(time()-t,2)}')\n",
    "        count+=1\n",
    "        \n",
    "    loss = torch.tensor(loss)\n",
    "    print(f'epoch:{epoch}, mean loss:{torch.mean(loss.clone().detach())}, \\\n",
    "          time {round(time()-t,2)}')"
   ]
  },
  {
   "cell_type": "code",
   "execution_count": 11,
   "metadata": {},
   "outputs": [],
   "source": [
    "torch.save(model,'model_scripted.pt')"
   ]
  },
  {
   "cell_type": "markdown",
   "metadata": {},
   "source": [
    "# Example "
   ]
  },
  {
   "cell_type": "code",
   "execution_count": 162,
   "metadata": {},
   "outputs": [
    {
     "name": "stdout",
     "output_type": "stream",
     "text": [
      "loss is: 6.381307601928711\n"
     ]
    },
    {
     "data": {
      "image/png": "[encoded data removed]",
      "text/plain": [
       "<Figure size 1080x360 with 2 Axes>"
      ]
     },
     "metadata": {},
     "output_type": "display_data"
    }
   ],
   "source": [
    "#model = torch.load('model_scripted.pt',map_location=torch.device('cpu'))\n",
    "#model.eval()\n",
    "data = dataset.__getitem__(0)\n",
    "out = model(data)\n",
    "#out = hgnn.hgnn(data)\n",
    "\n",
    "fig,ax = plt.subplots(1,2,figsize=(15,5))\n",
    "ax = ax.flatten()\n",
    "ax[0].scatter(data.y[:,0],data.y[:,1],alpha=1,color='#1AF8FF')\n",
    "ax[0].set_title('True values')\n",
    "\n",
    "test = out.detach().clone()\n",
    "ax[1].scatter(test[:,0],test[:,1],alpha=1,color='#1AF8FF')\n",
    "ax[1].set_title('Test values')\n",
    "\n",
    "disk = Circle((0,0),1,color='white',fill=False)\n",
    "disk2 = Circle((0,0),1,color='white',fill=False)\n",
    "\n",
    "ax[0].add_patch(disk)\n",
    "ax[1].add_patch(disk2)\n",
    "\n",
    "idxs = [0,1]\n",
    "for idx00 in idxs:\n",
    "    xy_left = data.y[idx00]\n",
    "    xy_right = test[idx00]\n",
    "\n",
    "    ax[0].scatter(xy_left[0],xy_left[1],alpha=1,color='#DF0101',s = 50)\n",
    "    ax[1].scatter(xy_right[0],xy_right[1],s=50,c='#DF0101') #change color\n",
    "    con = ConnectionPatch(xyA=xy_left, coordsA=ax[0].transData,xyB=xy_right, coordsB=ax[1].transData,color='#DF01D7')\n",
    "    fig.add_artist(con)\n",
    "\n",
    "length = len(out)\n",
    "_input = distance_matrix(out)\n",
    "_input = _input[torch.triu(torch.ones(length,length),diagonal=1) == 1]\n",
    "_target = distance_matrix(data.y)\n",
    "_target = _target[torch.triu(torch.ones(length,length),diagonal=1) == 1]\n",
    "loss = F.mse_loss(_input,_target)\n",
    "print(f'loss is: {loss}')\n",
    "plt.show()"
   ]
  },
  {
   "cell_type": "markdown",
   "metadata": {},
   "source": [
    "## Playing with my own gnn"
   ]
  },
  {
   "cell_type": "code",
   "execution_count": 1,
   "metadata": {},
   "outputs": [],
   "source": [
    "import torch\n",
    "from torch_geometric.loader import DataLoader\n",
    "import torch.nn.functional as F\n",
    "import pytorch_lightning as pl\n",
    "from pytorch_lightning.callbacks import TQDMProgressBar\n",
    "\n",
    "from layers.hyp_layer import HyperbolicGraphConvolution as HypGCN\n",
    "from manifold.poincare import PoincareBall\n",
    "from dataHandler import ParticleDataset\n",
    "from optimizer.radam import RiemannianAdam\n",
    "\n",
    "import numpy as np\n",
    "from time import time\n",
    "import matplotlib.pyplot as plt\n",
    "from matplotlib.patches import Circle,ConnectionPatch\n",
    "plt.style.use('dark_background')"
   ]
  },
  {
   "cell_type": "code",
   "execution_count": 2,
   "metadata": {},
   "outputs": [],
   "source": [
    "manifold = PoincareBall() #initialise the manifold\n",
    "\n",
    "train = ParticleDataset('data/test','background')\n",
    "#train = DataLoader(train, batch_size=4, shuffle=True,num_workers=128)\n",
    "\n",
    "# use 20% of training data for validation\n",
    "train_set_size = int(len(train) * 0.8)\n",
    "valid_set_size = len(train) - train_set_size\n",
    "\n",
    "# split the train set into two\n",
    "seed = torch.Generator().manual_seed(42)\n",
    "train_set, valid_set = torch.utils.data.random_split(train, [train_set_size, valid_set_size], generator=seed)\n",
    "train_set = DataLoader(train_set,batch_size=1,num_workers=128)\n",
    "valid_set = DataLoader(valid_set,batch_size=1,num_workers=128)\n",
    "\n",
    "test = ParticleDataset('data/test','background')\n",
    "test_set = DataLoader(test, batch_size=4,num_workers=128)"
   ]
  },
  {
   "cell_type": "code",
   "execution_count": 3,
   "metadata": {},
   "outputs": [],
   "source": [
    "#activation = torch.tanh\n",
    "class hgcn(torch.nn.Module):\n",
    "    def __init__(self, manifold, _in, _h1, _out):\n",
    "        super().__init__()\n",
    "        self.hconv1 = HypGCN(manifold, _in-1, _h1)\n",
    "        self.hconv2 = HypGCN(manifold, _h1, _out)\n",
    "                \n",
    "    def forward(self,data):\n",
    "        x, edge_index = manifold.lorentz_to_poincare(data.x), data.edge_index\n",
    "        \n",
    "        x = self.hconv1(x, edge_index)\n",
    "        x = self.hconv2(x, edge_index)\n",
    "        \n",
    "        return x"
   ]
  },
  {
   "cell_type": "code",
   "execution_count": 4,
   "metadata": {},
   "outputs": [],
   "source": [
    "def distance_matrix(nodes):\n",
    "    matrix = torch.zeros(len(nodes),len(nodes))\n",
    "    for n_idx in range(len(nodes)):\n",
    "        matrix[n_idx] = manifold.distance(torch.unsqueeze(nodes[n_idx],0),nodes) + 1e-8\n",
    "    return matrix[torch.triu(torch.ones_like(matrix),diagonal=1) == 1]"
   ]
  },
  {
   "cell_type": "code",
   "execution_count": 5,
   "metadata": {},
   "outputs": [],
   "source": [
    "class LitHGCN(pl.LightningModule):\n",
    "    def __init__(self, model):\n",
    "        super().__init__()\n",
    "        self.hyp_gcn = model(manifold, 4, 64, 2).double()\n",
    "        \n",
    "    def forward(self,batch):\n",
    "        #batch.x = manifold.lorentz_to_poincare(batch.x)\n",
    "        output = self.hyp_gcn(batch)\n",
    "        return output\n",
    "\n",
    "    def training_step(self,batch,batch_idx):\n",
    "        output = self.hyp_gcn(batch)\n",
    "        length = len(output)\n",
    "\n",
    "        '''\n",
    "        loss_temp=0\n",
    "        for graph_idx in torch.unique(batch.batch):\n",
    "            graph_mask = batch.batch == graph_idx\n",
    "\n",
    "            _output = distance_matrix(output[graph_mask])\n",
    "            _target = distance_matrix(batch.y[graph_mask])\n",
    "\n",
    "            loss_temp += F.mse_loss(_input,_target)\n",
    "        \n",
    "        loss_temp /= batch.num_graphs\n",
    "        '''\n",
    "        _output = distance_matrix(output)\n",
    "        _target = distance_matrix(batch.y)\n",
    "        loss_temp = F.mse_loss(_target,_output)\n",
    "        \n",
    "        self.log('training loss',loss_temp)\n",
    "        return loss_temp\n",
    "\n",
    "    \n",
    "    def validation_step(self,batch,batch_idx):\n",
    "        output = self.hyp_gcn(batch)\n",
    "        length = len(output)\n",
    "\n",
    "        loss_temp=0\n",
    "        for graph_idx in torch.unique(batch.batch):\n",
    "            graph_mask = batch.batch == graph_idx\n",
    "\n",
    "            _output = distance_matrix(output[graph_mask])\n",
    "            _target = distance_matrix(batch.y[graph_mask])\n",
    "\n",
    "\n",
    "            loss_temp += F.mse_loss(_output,_target)\n",
    "        \n",
    "        loss_temp /= batch.num_graphs\n",
    "        self.log('valid loss',loss_temp,batch_size=len(torch.unique(batch.batch)))\n",
    "        \n",
    "    \n",
    "    def test_step(self,batch,batch_idx):\n",
    "        output = self.hyp_gcn(batch)\n",
    "        length = len(output)\n",
    "\n",
    "        loss_temp=0\n",
    "        for graph_idx in torch.unique(batch.batch):\n",
    "            graph_mask = batch.batch == graph_idx\n",
    "\n",
    "            _output = distance_matrix(output[graph_mask])\n",
    "            _target = distance_matrix(batch.y[graph_mask])\n",
    "\n",
    "            loss_temp += F.mse_loss(_output,_target)\n",
    "        \n",
    "        loss_temp /= batch.num_graphs\n",
    "        self.log('test loss',loss_temp,batch_size=len(torch.unique(batch.batch)))\n",
    "        \n",
    "    \n",
    "    def configure_optimizers(self):\n",
    "        optimizer = RiemannianAdam(self.hyp_gcn.parameters(),\n",
    "            lr=0.05, weight_decay=5e-4)\n",
    "        return optimizer"
   ]
  },
  {
   "cell_type": "code",
   "execution_count": 6,
   "metadata": {},
   "outputs": [],
   "source": [
    "class LitProgressBar(TQDMProgressBar):\n",
    "    def init_validation_tqdm(self):\n",
    "        bar = super().init_validation_tqdm()\n",
    "        bar.set_description('running training ...')\n",
    "        return bar"
   ]
  },
  {
   "cell_type": "code",
   "execution_count": 7,
   "metadata": {},
   "outputs": [
    {
     "name": "stderr",
     "output_type": "stream",
     "text": [
      "GPU available: False, used: False\n",
      "TPU available: False, using: 0 TPU cores\n",
      "IPU available: False, using: 0 IPUs\n"
     ]
    }
   ],
   "source": [
    "hyper_gcn = LitHGCN(hgcn)\n",
    "bar = LitProgressBar()\n",
    "\n",
    "trainer = pl.Trainer(max_epochs=1,callbacks=[bar],log_every_n_steps=1)\n",
    "#trainer.fit(hyper_gcn,train_set,valid_set)"
   ]
  },
  {
   "cell_type": "code",
   "execution_count": 8,
   "metadata": {},
   "outputs": [],
   "source": [
    "#trainer.test(model=hyper_gcn,test_dataloaders=test_set)"
   ]
  },
  {
   "cell_type": "code",
   "execution_count": null,
   "metadata": {},
   "outputs": [],
   "source": []
  },
  {
   "cell_type": "code",
   "execution_count": 10,
   "metadata": {},
   "outputs": [
    {
     "data": {
      "image/png": "[encoded data removed]",
      "text/plain": [
       "<Figure size 1080x360 with 2 Axes>"
      ]
     },
     "metadata": {},
     "output_type": "display_data"
    }
   ],
   "source": [
    "checking = ParticleDataset('data/test','background')\n",
    "data = checking.__getitem__(0)\n",
    "\n",
    "#hyp_gcn = hgcn(manifold, 4, 64, 2, use_bias=False).double()\n",
    "#hgcn.eval()\n",
    "output = hyp_gcn(data)\n",
    "\n",
    "fig,ax = plt.subplots(1,2,figsize=(15,5))\n",
    "ax = ax.flatten()\n",
    "ax[0].scatter(data.y[:,0],data.y[:,1],alpha=1,color='#1AF8FF')\n",
    "ax[0].set_title('True values')\n",
    "\n",
    "test = output.detach().clone()\n",
    "ax[1].scatter(test[:,0],test[:,1],alpha=1,color='#1AF8FF')\n",
    "ax[1].set_title('Test values')\n",
    "\n",
    "disk = Circle((0,0),1,color='white',fill=False)\n",
    "disk2 = Circle((0,0),1,color='white',fill=False)\n",
    "\n",
    "ax[0].add_patch(disk)\n",
    "ax[1].add_patch(disk2)\n",
    "\n",
    "plt.show()"
   ]
  },
  {
   "cell_type": "code",
   "execution_count": null,
   "metadata": {},
   "outputs": [],
   "source": []
  },
  {
   "cell_type": "code",
   "execution_count": null,
   "metadata": {},
   "outputs": [],
   "source": []
  },
  {
   "cell_type": "code",
   "execution_count": null,
   "metadata": {},
   "outputs": [],
   "source": []
  },
  {
   "cell_type": "code",
   "execution_count": 12,
   "metadata": {},
   "outputs": [
    {
     "name": "stdout",
     "output_type": "stream",
     "text": [
      "model initilised\n",
      "--------------------\n",
      "batch: DataBatch(x=[1347, 4], edge_index=[2, 16244], y=[1347, 2], batch=[1347], ptr=[5])\n",
      "output computed, time: 0.8658735752105713\n",
      "training loss: inf, time: 2.4553353786468506\n",
      "loss backward: 7.841362953186035\n",
      "optimizer step: 0.00017714500427246094\n",
      "end of batch, time: 11.164103984832764\n",
      "~~~~~~~~~~~~~~~~~~~~\n",
      "batch: DataBatch(x=[1765, 4], edge_index=[2, 21062], y=[1765, 2], batch=[1765], ptr=[5])\n",
      "output computed, time: 0.2699105739593506\n",
      "training loss: inf, time: 2.914412021636963\n",
      "loss backward: 16.08122229576111\n",
      "optimizer step: 0.005441904067993164\n",
      "end of batch, time: 19.36546754837036\n",
      "~~~~~~~~~~~~~~~~~~~~\n"
     ]
    }
   ],
   "source": [
    "k=0\n",
    "hyp_gcn = hgcn(manifold, 4, 27, 2).double()\n",
    "hyp_gcn.train()\n",
    "optimizer = RiemannianAdam(hyp_gcn.parameters(), lr=0.01, weight_decay=5e-4)\n",
    "print(f'model initilised')\n",
    "print(20*'-')\n",
    "for epoch in range(1):\n",
    "    for batch in train:\n",
    "        print(f'batch: {batch}')\n",
    "        a = time()\n",
    "        optimizer.zero_grad()\n",
    "        batch.x = manifold.lorentz_to_poincare(batch.x)\n",
    "        d = time()\n",
    "        output = hyp_gcn(batch)\n",
    "        print(f'output computed, time: {time() - d}')\n",
    "        length = len(output)\n",
    "\n",
    "        b = time()\n",
    "        loss=0\n",
    "        for graph_idx in torch.unique(batch.batch):\n",
    "            graph_mask = batch.batch == graph_idx\n",
    "            \n",
    "            _input = distance_matrix(output[graph_mask])\n",
    "            _input = _input[torch.triu(torch.ones_like(_input),\n",
    "                diagonal=1) == 1]\n",
    "\n",
    "            _target = distance_matrix(batch.y[graph_mask])\n",
    "            _target = _target[torch.triu(torch.ones_like(_target),\n",
    "                diagonal=1) == 1]\n",
    "\n",
    "            loss += F.mse_loss(_input,_target)\n",
    "\n",
    "        loss /= batch.num_graphs\n",
    "        print(f'training loss: {loss}, time: {time() - b}')\n",
    "    \n",
    "        c = time()\n",
    "        loss.backward()\n",
    "        print(f'loss backward: {time() - c}')\n",
    "        c = time()\n",
    "        optimizer.step()\n",
    "        print(f'optimizer step: {time() - c}')\n",
    "        print(f'end of batch, time: {time() - a}')\n",
    "        print(20*'~')\n",
    "        k+=1\n",
    "        if k>1:\n",
    "            break"
   ]
  }
 ],
 "metadata": {
  "kernelspec": {
   "display_name": "Python 3 (ipykernel)",
   "language": "python",
   "name": "python3"
  },
  "language_info": {
   "codemirror_mode": {
    "name": "ipython",
    "version": 3
   },
   "file_extension": ".py",
   "mimetype": "text/x-python",
   "name": "python",
   "nbconvert_exporter": "python",
   "pygments_lexer": "ipython3",
   "version": "3.9.7"
  }
 },
 "nbformat": 4,
 "nbformat_minor": 4
}
